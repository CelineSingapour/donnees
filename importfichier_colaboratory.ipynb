{
  "nbformat": 4,
  "nbformat_minor": 0,
  "metadata": {
    "colab": {
      "name": "importfichier_colaboratory.ipynb",
      "provenance": [],
      "authorship_tag": "ABX9TyNU9/g5OL92sZw6Mg2oIwTE",
      "include_colab_link": true
    },
    "kernelspec": {
      "name": "python3",
      "display_name": "Python 3"
    },
    "language_info": {
      "name": "python"
    }
  },
  "cells": [
    {
      "cell_type": "markdown",
      "metadata": {
        "id": "view-in-github",
        "colab_type": "text"
      },
      "source": [
        "<a href=\"https://colab.research.google.com/github/CelineSingapour/donnees/blob/main/importfichier_colaboratory.ipynb\" target=\"_parent\"><img src=\"https://colab.research.google.com/assets/colab-badge.svg\" alt=\"Open In Colab\"/></a>"
      ]
    },
    {
      "cell_type": "markdown",
      "source": [
        "procédure: \n",
        "https://medium.com/@simonprdhm/2-mani%C3%A8res-simple-de-charger-un-fichier-csv-dans-google-colab-3b86616d248a\n",
        "\n",
        "\n",
        "\n",
        "ou https://fr.acervolima.com/facons-dimporter-des-fichiers-csv-dans-google-colab/\n"
      ],
      "metadata": {
        "id": "Cerja6FcFZpu"
      }
    },
    {
      "cell_type": "markdown",
      "source": [
        "### A- aller chercher un fichier sur ordi\n",
        "\n",
        "\n",
        "https://fr.acervolima.com/facons-dimporter-des-fichiers-csv-dans-google-colab/\n"
      ],
      "metadata": {
        "id": "cCEPapytQzmu"
      }
    },
    {
      "cell_type": "code",
      "source": [
        "from google.colab import files \n",
        "  \n",
        "uploaded = files.upload()"
      ],
      "metadata": {
        "id": "88NHvCIdKPNx"
      },
      "execution_count": null,
      "outputs": []
    },
    {
      "cell_type": "code",
      "source": [
        "import pandas as pd \n",
        "import io \n",
        "url=\"pointages.csv\"\n",
        "donnees = pd.read_csv(url,decimal=\",\",delimiter=\";\")\n"
      ],
      "metadata": {
        "id": "BSjtxRtPM2y6"
      },
      "execution_count": 48,
      "outputs": []
    },
    {
      "cell_type": "code",
      "source": [
        "t = donnees[\"t\"].values.tolist()\n",
        "x = donnees[\"x\"].values.tolist()\n",
        "y = donnees[\"y\"].values.tolist()\n",
        "\n"
      ],
      "metadata": {
        "id": "YtdGY-wPOZCb"
      },
      "execution_count": 49,
      "outputs": []
    },
    {
      "cell_type": "code",
      "execution_count": 53,
      "metadata": {
        "id": "4TF1QPnTDs2J",
        "colab": {
          "base_uri": "https://localhost:8080/",
          "height": 295
        },
        "outputId": "5a9e3fe7-e2e4-417d-9c15-12c8c58f27fe"
      },
      "outputs": [
        {
          "output_type": "display_data",
          "data": {
            "image/png": "[encoded data removed]",
            "text/plain": [
              "<Figure size 432x288 with 1 Axes>"
            ]
          },
          "metadata": {
            "needs_background": "light"
          }
        }
      ],
      "source": [
        "\n",
        "import matplotlib.pyplot as plt\n",
        "\n",
        "N=len(x)  #N contient la valeur du nombre de données en x et en y\n",
        "dt=0.04\n",
        "Vy=[]\n",
        "Vx=[]\n",
        "for i in range(0,N-1) :  #calcul de k=0, sur N-1 valeurs\n",
        "    Vy.append((y[i+1]- y[i])/dt)\n",
        "    Vx.append((x[i+1]- x[i])/dt)\n",
        "\n",
        "for i in range (0, N-1, 2):\n",
        "    plt.quiver(x[i],y[i],Vx[i],Vy[i],width=0.005,scale=50,color='r',label='vecteur vitesse')\n",
        "\n",
        "varVx=[]\n",
        "varVy=[]\n",
        "for k in range (0,N-2):\n",
        "    varVy.append((Vy[k+1]- Vy[k]))\n",
        "    varVx.append((Vx[k+1]- Vx[k]))\n",
        "\n",
        "for i in range (0, N-2,2):\n",
        "    plt.quiver(x[i],y[i],varVx[i],varVy[i],width=0.005,scale=20,color='b',label='vecteur variation vitesse')\n",
        "\n",
        "\n",
        "plt.plot(x, y, 'o', markersize = 4)\n",
        "plt.xlabel(\"x (en m)\")\n",
        "plt.ylabel(\"y (en m)\")\n",
        "plt.axis('equal')\n",
        "plt.title(\"Chronophotographie du mouvement\")\n",
        "plt.show()"
      ]
    },
    {
      "cell_type": "markdown",
      "source": [
        "### B- aller chercher un fichier sur le drive. \n",
        "1ere étape: autoriser l'accès au drive\n",
        "\n",
        "mettre les 2 fichiers (notebook et csc dans le même dossier, ici: data)\n",
        "\n",
        "https://medium.com/@simonprdhm/2-mani%C3%A8res-simple-de-charger-un-fichier-csv-dans-google-colab-3b86616d248a\n"
      ],
      "metadata": {
        "id": "6_14TL1xRdAl"
      }
    },
    {
      "cell_type": "code",
      "source": [
        "\n",
        "\n",
        "from google.colab import drive\n",
        "drive.mount(\"/content/drive\")"
      ],
      "metadata": {
        "colab": {
          "base_uri": "https://localhost:8080/"
        },
        "id": "7paC1SH6EY-g",
        "outputId": "dfd9fdd2-6ff2-4285-9403-dbed3083095c"
      },
      "execution_count": 55,
      "outputs": [
        {
          "output_type": "stream",
          "name": "stdout",
          "text": [
            "Drive already mounted at /content/drive; to attempt to forcibly remount, call drive.mount(\"/content/drive\", force_remount=True).\n"
          ]
        }
      ]
    },
    {
      "cell_type": "markdown",
      "source": [
        "Puis, cliquez sur l’icone tout en bas (files) ensuite cliquez sur Files. Recherchez le dossier de Data que vous avez créé précédemment et recherchez votre fichier csv. Faites clic droit sur le fichier et sélectionnez Copy Path.\n",
        "\n",
        "\n",
        "6. Finalement, copiez le Path dans un objet comme indiqué ci-dessous "
      ],
      "metadata": {
        "id": "3h4TKgPfSuS8"
      }
    },
    {
      "cell_type": "code",
      "source": [
        "import matplotlib.pyplot as plt\n",
        "\n",
        "\n",
        "path = \"/content/drive/MyDrive/1_Documents/1ereSPE/data/pointagerose.csv\"\n",
        "donnees = pd.read_csv(path,decimal=\",\",delimiter=\";\")\n",
        "\n",
        "t = donnees[\"t\"].values.tolist()\n",
        "x = donnees[\"x\"].values.tolist()\n",
        "y = donnees[\"y\"].values.tolist()\n",
        "\n",
        "\n",
        "N=len(x)  #N contient la valeur du nombre de données en x et en y\n",
        "dt=0.04\n",
        "Vy=[]\n",
        "Vx=[]\n",
        "for i in range(0,N-1) :  #calcul de k=0, sur N-1 valeurs\n",
        "    Vy.append((y[i+1]- y[i])/dt)\n",
        "    Vx.append((x[i+1]- x[i])/dt)\n",
        "\n",
        "for i in range (0, N-1, 2):\n",
        "    plt.quiver(x[i],y[i],Vx[i],Vy[i],width=0.005,scale=50,color='r',label='vecteur vitesse')\n",
        "\n",
        "varVx=[]\n",
        "varVy=[]\n",
        "for k in range (0,N-2):\n",
        "    varVy.append((Vy[k+1]- Vy[k]))\n",
        "    varVx.append((Vx[k+1]- Vx[k]))\n",
        "\n",
        "for i in range (0, N-2,2):\n",
        "    plt.quiver(x[i],y[i],varVx[i],varVy[i],width=0.005,scale=20,color='b',label='vecteur variation vitesse')\n",
        "\n",
        "\n",
        "plt.plot(x, y, 'o', markersize = 4)\n",
        "plt.xlabel(\"x (en m)\")\n",
        "plt.ylabel(\"y (en m)\")\n",
        "plt.axis('equal')\n",
        "plt.title(\"Chronophotographie du mouvement\")\n",
        "plt.show()"
      ],
      "metadata": {
        "id": "xXXeo3gsS3rm"
      },
      "execution_count": null,
      "outputs": []
    },
    {
      "cell_type": "markdown",
      "source": [
        "### C- depuis Github\n",
        "\n",
        "https://fr.acervolima.com/facons-dimporter-des-fichiers-csv-dans-google-colab/\n",
        "\n",
        "pour trouve le lien \"url\": ouvrir le fichier, cliquer sur \"raw\", puis copier l'adresse\n",
        "\n",
        "github: compte ifs"
      ],
      "metadata": {
        "id": "Acq2392cTeNm"
      }
    },
    {
      "cell_type": "code",
      "source": [
        "import matplotlib.pyplot as plt\n",
        "import pandas as pd \n",
        "\n",
        "url = \"https://raw.githubusercontent.com/CelineSingapour/donnees/main/pointagerose.csv\"\n",
        "\n",
        "donnees = pd.read_csv(url,decimal=\",\",delimiter=\";\")\n",
        "\n",
        "t = donnees[\"t\"].values.tolist()\n",
        "x = donnees[\"x\"].values.tolist()\n",
        "y = donnees[\"y\"].values.tolist()\n",
        "\n",
        "\n",
        "N=len(x)  #N contient la valeur du nombre de données en x et en y\n",
        "dt=0.04\n",
        "Vy=[]\n",
        "Vx=[]\n",
        "for i in range(0,N-1) :  #calcul de k=0, sur N-1 valeurs\n",
        "    Vy.append((y[i+1]- y[i])/dt)\n",
        "    Vx.append((x[i+1]- x[i])/dt)\n",
        "\n",
        "for i in range (0, N-1, 2):\n",
        "    plt.quiver(x[i],y[i],Vx[i],Vy[i],width=0.005,scale=50,color='r',label='vecteur vitesse')\n",
        "\n",
        "varVx=[]\n",
        "varVy=[]\n",
        "for k in range (0,N-2):\n",
        "    varVy.append((Vy[k+1]- Vy[k]))\n",
        "    varVx.append((Vx[k+1]- Vx[k]))\n",
        "\n",
        "for i in range (0, N-2,2):\n",
        "    plt.quiver(x[i],y[i],varVx[i],varVy[i],width=0.005,scale=20,color='b',label='vecteur variation vitesse')\n",
        "\n",
        "\n",
        "plt.plot(x, y, 'o', markersize = 4)\n",
        "plt.xlabel(\"x (en m)\")\n",
        "plt.ylabel(\"y (en m)\")\n",
        "plt.axis('equal')\n",
        "plt.title(\"Chronophotographie du mouvement\")\n",
        "plt.show()\n"
      ],
      "metadata": {
        "colab": {
          "base_uri": "https://localhost:8080/",
          "height": 295
        },
        "id": "rWoIXoMSWNPd",
        "outputId": "98e62ea6-b70a-4373-fe53-4c08bc5195b8"
      },
      "execution_count": 58,
      "outputs": [
        {
          "output_type": "display_data",
          "data": {
            "image/png": "[encoded data removed]",
            "text/plain": [
              "<Figure size 432x288 with 1 Axes>"
            ]
          },
          "metadata": {
            "needs_background": "light"
          }
        }
      ]
    }
  ]
}